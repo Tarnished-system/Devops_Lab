{
  "nbformat": 4,
  "nbformat_minor": 0,
  "metadata": {
    "colab": {
      "provenance": [],
      "authorship_tag": "ABX9TyOdIWEz708ioAks9JGkAhuo",
      "include_colab_link": true
    },
    "kernelspec": {
      "name": "python3",
      "display_name": "Python 3"
    },
    "language_info": {
      "name": "python"
    }
  },
  "cells": [
    {
      "cell_type": "markdown",
      "metadata": {
        "id": "view-in-github",
        "colab_type": "text"
      },
      "source": [
        "<a href=\"https://colab.research.google.com/github/Tarnished-system/Devops_Lab/blob/main/Learn2gether_strings.ipynb\" target=\"_parent\"><img src=\"https://colab.research.google.com/assets/colab-badge.svg\" alt=\"Open In Colab\"/></a>"
      ]
    },
    {
      "cell_type": "code",
      "execution_count": null,
      "metadata": {
        "colab": {
          "base_uri": "https://localhost:8080/"
        },
        "id": "rb2XESHMu0MC",
        "outputId": "2a7b23bf-4f86-4e30-abde-16ebf92ae7d9"
      },
      "outputs": [
        {
          "output_type": "stream",
          "name": "stdout",
          "text": [
            "Hello World Python\n"
          ]
        }
      ],
      "source": [
        "#Defining a string\n",
        "single_quoted = 'Hello'\n",
        "double_quoted = \"World\"\n",
        "triple_quoted = '''Python'''\n",
        "print(single_quoted, double_quoted, triple_quoted)"
      ]
    },
    {
      "cell_type": "code",
      "source": [
        "#String concatenation\n",
        "concatenated_string = \"Hello\" + \" \" + \"World\"\n",
        "print(concatenated_string)"
      ],
      "metadata": {
        "colab": {
          "base_uri": "https://localhost:8080/"
        },
        "id": "5ENRy5AmvyWM",
        "outputId": "1368c3b6-541b-4e6b-aeb6-fd19b488698d"
      },
      "execution_count": null,
      "outputs": [
        {
          "output_type": "stream",
          "name": "stdout",
          "text": [
            "Hello World\n"
          ]
        }
      ]
    },
    {
      "cell_type": "code",
      "source": [
        "length = len(\"Python\")\n",
        "print(length)\n"
      ],
      "metadata": {
        "colab": {
          "base_uri": "https://localhost:8080/"
        },
        "id": "7pciytdCv5n6",
        "outputId": "a795277c-236a-4b0e-ee16-9614f4252fdd"
      },
      "execution_count": null,
      "outputs": [
        {
          "output_type": "stream",
          "name": "stdout",
          "text": [
            "6\n"
          ]
        }
      ]
    },
    {
      "cell_type": "code",
      "source": [
        "#string indexing\n",
        "my_string = \"Python\"\n",
        "first_char = my_string[0]\n",
        "print(first_char)"
      ],
      "metadata": {
        "colab": {
          "base_uri": "https://localhost:8080/"
        },
        "id": "yTOkCsdk6y5Y",
        "outputId": "34aee6a4-1679-4ac1-ec96-38840a90050e"
      },
      "execution_count": null,
      "outputs": [
        {
          "output_type": "stream",
          "name": "stdout",
          "text": [
            "P\n"
          ]
        }
      ]
    },
    {
      "cell_type": "code",
      "source": [
        "my_string = \"Python\"\n",
        "substring = my_string[1:4]\n",
        "print(substring)\n"
      ],
      "metadata": {
        "colab": {
          "base_uri": "https://localhost:8080/"
        },
        "id": "WN6mpPLd64O9",
        "outputId": "f2924933-c6a0-4fbe-efeb-66f0ed5b8c8d"
      },
      "execution_count": null,
      "outputs": [
        {
          "output_type": "stream",
          "name": "stdout",
          "text": [
            "yth\n"
          ]
        }
      ]
    },
    {
      "cell_type": "code",
      "source": [
        "#startswith endswith methods\n",
        "my_string = \"Hello World\"\n",
        "my_string.startswith(\"Hello\")\n",
        "my_string.endswith(\"World\")\n",
        "print(my_string.startswith(\"Hello\"))\n",
        "print(my_string.endswith(\"World\"))"
      ],
      "metadata": {
        "id": "-ZDESG5ErGrW",
        "colab": {
          "base_uri": "https://localhost:8080/",
          "height": 0
        },
        "outputId": "486c322d-64d4-4d4c-bbf7-7d5ce21e4197"
      },
      "execution_count": 2,
      "outputs": [
        {
          "output_type": "stream",
          "name": "stdout",
          "text": [
            "True\n",
            "True\n"
          ]
        }
      ]
    },
    {
      "cell_type": "code",
      "source": [
        "my_string = \"Hello old World\"\n",
        "new_string = my_string.replace(\"old\", \"new\")\n",
        "print(new_string)\n"
      ],
      "metadata": {
        "colab": {
          "base_uri": "https://localhost:8080/",
          "height": 0
        },
        "id": "EcB8_xVUsGnU",
        "outputId": "1f8edcdf-5f76-4ad0-b1ee-56b93acdd3a7"
      },
      "execution_count": 6,
      "outputs": [
        {
          "output_type": "stream",
          "name": "stdout",
          "text": [
            "Hello new World\n"
          ]
        }
      ]
    },
    {
      "cell_type": "code",
      "source": [
        "my_string = \"Hello World\"\n",
        "my_string.upper()\n",
        "my_string.lower()\n",
        "print(my_string.upper())\n",
        "print(my_string.lower())\n",
        "words = my_string.split(\" \")\n",
        "print(words)"
      ],
      "metadata": {
        "colab": {
          "base_uri": "https://localhost:8080/",
          "height": 0
        },
        "id": "gsRtsYQ8sfhz",
        "outputId": "f06be987-6299-4c6e-d077-cfec1dfe26d6"
      },
      "execution_count": 8,
      "outputs": [
        {
          "output_type": "stream",
          "name": "stdout",
          "text": [
            "HELLO WORLD\n",
            "hello world\n",
            "['Hello', 'World']\n"
          ]
        }
      ]
    },
    {
      "cell_type": "code",
      "source": [
        "#Format specifier\n",
        "formatted_string = \"Hello, %s!\" % \"Python\"\n",
        "print(formatted_string)\n"
      ],
      "metadata": {
        "colab": {
          "base_uri": "https://localhost:8080/",
          "height": 0
        },
        "id": "v-Uc_anqs7HC",
        "outputId": "6ad8d7ba-476d-41c5-d55b-1d7ddbbd139d"
      },
      "execution_count": 9,
      "outputs": [
        {
          "output_type": "stream",
          "name": "stdout",
          "text": [
            "Hello, Python!\n"
          ]
        }
      ]
    },
    {
      "cell_type": "code",
      "source": [
        "#format method\n",
        "formatted_string = \"Hello, {}!\".format(\"Python\")\n",
        "print(formatted_string)"
      ],
      "metadata": {
        "colab": {
          "base_uri": "https://localhost:8080/",
          "height": 0
        },
        "id": "P2LxZFkitLBi",
        "outputId": "01343b04-8eba-4f9a-9b63-d448591a2712"
      },
      "execution_count": 10,
      "outputs": [
        {
          "output_type": "stream",
          "name": "stdout",
          "text": [
            "Hello, Python!\n"
          ]
        }
      ]
    },
    {
      "cell_type": "code",
      "source": [
        "#f-string usage\n",
        "name = \"Python\"\n",
        "formatted_string = f\"Hello, {name}!\"\n",
        "print(formatted_string)"
      ],
      "metadata": {
        "colab": {
          "base_uri": "https://localhost:8080/",
          "height": 0
        },
        "id": "3gk_e-3EtYiC",
        "outputId": "d25ff3f4-6831-4748-f773-8787547098a6"
      },
      "execution_count": 11,
      "outputs": [
        {
          "output_type": "stream",
          "name": "stdout",
          "text": [
            "Hello, Python!\n"
          ]
        }
      ]
    },
    {
      "cell_type": "code",
      "source": [
        "def is_palindrome(s):\n",
        "    return s == s[::-1]\n",
        "\n",
        "print(is_palindrome(\"madam\"))\n",
        "print(is_palindrome(\"hello\"))"
      ],
      "metadata": {
        "colab": {
          "base_uri": "https://localhost:8080/",
          "height": 0
        },
        "id": "OgBsJ7TUw8bY",
        "outputId": "0b895664-c80f-4887-97c3-aa8be0fe3b6c"
      },
      "execution_count": 12,
      "outputs": [
        {
          "output_type": "stream",
          "name": "stdout",
          "text": [
            "True\n",
            "False\n"
          ]
        }
      ]
    },
    {
      "cell_type": "code",
      "source": [
        "def are_anagrams(s1, s2):\n",
        "    return sorted(s1) == sorted(s2)\n",
        "\n",
        "print(are_anagrams(\"vikram\", \"mavrik\"))\n",
        "print(are_anagrams(\"hello\", \"world\"))"
      ],
      "metadata": {
        "colab": {
          "base_uri": "https://localhost:8080/",
          "height": 0
        },
        "id": "K7KBAtAtxKWw",
        "outputId": "ce7bdd4d-4d17-47f3-9f0c-39b661d1def9"
      },
      "execution_count": 13,
      "outputs": [
        {
          "output_type": "stream",
          "name": "stdout",
          "text": [
            "True\n",
            "False\n"
          ]
        }
      ]
    },
    {
      "cell_type": "code",
      "source": [
        "my_string = \"Hello World\"\n",
        "reversed_words = ' '.join(word[::-1] for word in my_string.split())\n",
        "print(reversed_words)\n"
      ],
      "metadata": {
        "colab": {
          "base_uri": "https://localhost:8080/",
          "height": 0
        },
        "id": "QuyxX6KQxieJ",
        "outputId": "733ea04b-1d7b-4129-8491-7b4f82ab15ad"
      },
      "execution_count": 15,
      "outputs": [
        {
          "output_type": "stream",
          "name": "stdout",
          "text": [
            "olleH dlroW\n"
          ]
        }
      ]
    },
    {
      "cell_type": "code",
      "source": [
        "#coding and decoding\n",
        "text = \"Hello!\"\n",
        "encoded_text = text.encode('ascii')\n",
        "print(encoded_text)\n",
        "decoded_text = encoded_text.decode('ascii')\n",
        "print(decoded_text)"
      ],
      "metadata": {
        "colab": {
          "base_uri": "https://localhost:8080/",
          "height": 0
        },
        "id": "NUYVBplqx4rY",
        "outputId": "c104ab20-8957-4dad-82d5-2415861605cb"
      },
      "execution_count": 17,
      "outputs": [
        {
          "output_type": "stream",
          "name": "stdout",
          "text": [
            "b'Hello!'\n",
            "Hello!\n"
          ]
        }
      ]
    },
    {
      "cell_type": "code",
      "source": [
        "#unicode retrieval using ord\n",
        "text = \"Hello\"\n",
        "for char in text:\n",
        "    print(f\"Character: {char}, Unicode: {ord(char)}\")\n"
      ],
      "metadata": {
        "colab": {
          "base_uri": "https://localhost:8080/",
          "height": 0
        },
        "id": "PVkGg6pWzviY",
        "outputId": "0d400f10-fa69-4ece-eb0c-0f7711f87320"
      },
      "execution_count": 18,
      "outputs": [
        {
          "output_type": "stream",
          "name": "stdout",
          "text": [
            "Character: H, Unicode: 72\n",
            "Character: e, Unicode: 101\n",
            "Character: l, Unicode: 108\n",
            "Character: l, Unicode: 108\n",
            "Character: o, Unicode: 111\n"
          ]
        }
      ]
    },
    {
      "cell_type": "code",
      "source": [
        "def count_occurrences(s, char):\n",
        "    return s.count(char)\n",
        "\n",
        "print(count_occurrences(\"hello\", \"l\"))\n"
      ],
      "metadata": {
        "colab": {
          "base_uri": "https://localhost:8080/",
          "height": 0
        },
        "id": "HU0ciQ9Bz5mn",
        "outputId": "029b970e-0ddb-469b-d7dc-a3dec34eafa8"
      },
      "execution_count": 19,
      "outputs": [
        {
          "output_type": "stream",
          "name": "stdout",
          "text": [
            "2\n"
          ]
        }
      ]
    },
    {
      "cell_type": "code",
      "source": [
        "char_list = list(\"Tarnished\")\n",
        "print(char_list)"
      ],
      "metadata": {
        "colab": {
          "base_uri": "https://localhost:8080/",
          "height": 0
        },
        "id": "nY00NVP6046G",
        "outputId": "61c650dc-b193-4553-ad00-88d9a2a779f0"
      },
      "execution_count": 21,
      "outputs": [
        {
          "output_type": "stream",
          "name": "stdout",
          "text": [
            "['T', 'a', 'r', 'n', 'i', 's', 'h', 'e', 'd']\n"
          ]
        }
      ]
    },
    {
      "cell_type": "code",
      "source": [
        "def remove_duplicates(s):\n",
        "    return ''.join(sorted(set(s), key=s.index))\n",
        "\n",
        "print(remove_duplicates(\"hello\"))\n"
      ],
      "metadata": {
        "colab": {
          "base_uri": "https://localhost:8080/",
          "height": 0
        },
        "id": "7TR36Jzm1M2P",
        "outputId": "29743926-0677-4e9a-9131-9d309260f3e7"
      },
      "execution_count": 22,
      "outputs": [
        {
          "output_type": "stream",
          "name": "stdout",
          "text": [
            "helo\n"
          ]
        }
      ]
    },
    {
      "cell_type": "code",
      "source": [
        "# Create a translation table\n",
        "translation_table = str.maketrans(\"aeiou\", \"12345\")\n",
        "\n",
        "# Apply the translation to a string\n",
        "text = \"hello world\"\n",
        "translated_text = text.translate(translation_table)\n",
        "\n",
        "print(translated_text)\n"
      ],
      "metadata": {
        "colab": {
          "base_uri": "https://localhost:8080/",
          "height": 0
        },
        "id": "JUZVxkyF1o2P",
        "outputId": "e2879ca2-d9be-4a87-9486-82f0bbd02c7b"
      },
      "execution_count": 23,
      "outputs": [
        {
          "output_type": "stream",
          "name": "stdout",
          "text": [
            "h2ll4 w4rld\n"
          ]
        }
      ]
    }
  ]
}